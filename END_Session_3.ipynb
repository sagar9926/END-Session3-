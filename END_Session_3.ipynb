{
  "nbformat": 4,
  "nbformat_minor": 0,
  "metadata": {
    "colab": {
      "name": "END Session 3.ipynb",
      "provenance": [],
      "authorship_tag": "ABX9TyMrlCYTgCv3bI23XrvKfObm",
      "include_colab_link": true
    },
    "kernelspec": {
      "name": "python3",
      "display_name": "Python 3"
    }
  },
  "cells": [
    {
      "cell_type": "markdown",
      "metadata": {
        "id": "view-in-github",
        "colab_type": "text"
      },
      "source": [
        "<a href=\"https://colab.research.google.com/github/sagar9926/END-Session3-/blob/main/END_Session_3.ipynb\" target=\"_parent\"><img src=\"https://colab.research.google.com/assets/colab-badge.svg\" alt=\"Open In Colab\"/></a>"
      ]
    },
    {
      "cell_type": "markdown",
      "metadata": {
        "id": "mtEwEHtR7fXv"
      },
      "source": [
        "## Task 1 :\n",
        "\n",
        "Write a function using only list filter lambda that can tell whether a number is a Fibonacci number or not. You can use a pre-calculated list/dict to store fab numbers till 10000 "
      ]
    },
    {
      "cell_type": "code",
      "metadata": {
        "id": "169ogCtT68Qw"
      },
      "source": [
        "from functools import reduce \n",
        "#### Using lambda and reduce first create a function that to create Fibonacci series given number of series elements as inputs\n",
        "fib  = lambda n : reduce(lambda x , _ :  x + [x[-1] + x[-2]] ,range(n-2), [0 , 1])\n",
        "\n",
        "#### Create a list containing first 10000 elements of a fibonacci series \n",
        "FIB_10000 = fib(10000)\n",
        "\n",
        "#### Testing whether a number is fibonacci series or not\n",
        "Fib_Tester = lambda x : bool(list(filter(None ,  list([x in FIB_10000]))))"
      ],
      "execution_count": 1,
      "outputs": []
    },
    {
      "cell_type": "code",
      "metadata": {
        "id": "7TUKhRG87ysA",
        "outputId": "01e22867-e7e2-4ee8-df89-dc2c674cf592",
        "colab": {
          "base_uri": "https://localhost:8080/"
        }
      },
      "source": [
        "Fib_Tester(1)"
      ],
      "execution_count": 2,
      "outputs": [
        {
          "output_type": "execute_result",
          "data": {
            "text/plain": [
              "True"
            ]
          },
          "metadata": {
            "tags": []
          },
          "execution_count": 2
        }
      ]
    },
    {
      "cell_type": "code",
      "metadata": {
        "id": "Zd3lBc8W7-rd",
        "outputId": "1e1489d7-2da9-4bf6-f47e-6801f2680641",
        "colab": {
          "base_uri": "https://localhost:8080/"
        }
      },
      "source": [
        "Fib_Tester(100)"
      ],
      "execution_count": 3,
      "outputs": [
        {
          "output_type": "execute_result",
          "data": {
            "text/plain": [
              "False"
            ]
          },
          "metadata": {
            "tags": []
          },
          "execution_count": 3
        }
      ]
    },
    {
      "cell_type": "markdown",
      "metadata": {
        "id": "yG7CHEmnWYdT"
      },
      "source": [
        "## Task 2 :\n",
        "Using list comprehension (and zip/lambda/etc if required) write five different expressions that:"
      ]
    },
    {
      "cell_type": "markdown",
      "metadata": {
        "id": "gPnSpcOzXYS-"
      },
      "source": [
        "#### 2.1 : add 2 iterables a and b such that a is even and b is odd"
      ]
    },
    {
      "cell_type": "code",
      "metadata": {
        "id": "nfdpDveLWkVC"
      },
      "source": [
        "#### Creating two lists of size 10 with random numbers\n",
        "import random\n",
        "\n",
        "iter1 = [random.randint(0 , 100) for x in range(10)]\n",
        "iter2 = [random.randint(0 , 100) for x in range(10)]\n",
        "\n",
        "#### adding 2 iterables a and b such that a is even and b is odd\n",
        "Result_2_1 = [a + b for a , b in zip(iter1,iter2) if (a%2 == 0) and (b%2 != 0)]"
      ],
      "execution_count": 4,
      "outputs": []
    },
    {
      "cell_type": "code",
      "metadata": {
        "id": "WxEyF4pXWqxS",
        "outputId": "e04d0e9b-c70d-4abd-9adb-ab97a9906650",
        "colab": {
          "base_uri": "https://localhost:8080/"
        }
      },
      "source": [
        "print(\"iter1 : \",iter1)\n",
        "print(\"iter1 : \",iter2)\n",
        "print(\"Result : \",Result_2_1)"
      ],
      "execution_count": 5,
      "outputs": [
        {
          "output_type": "stream",
          "text": [
            "iter1 :  [17, 62, 21, 43, 56, 17, 13, 20, 25, 15]\n",
            "iter1 :  [99, 13, 72, 73, 77, 32, 61, 44, 16, 90]\n",
            "Result :  [75, 133]\n"
          ],
          "name": "stdout"
        }
      ]
    },
    {
      "cell_type": "markdown",
      "metadata": {
        "id": "FnnoI_3FXT_d"
      },
      "source": [
        "#### 2.2 : strips every vowel from a string provided (tsai>>t s)"
      ]
    },
    {
      "cell_type": "code",
      "metadata": {
        "id": "IUd-DvmE9-OA",
        "outputId": "9798e306-1ae3-49de-cf46-b4c1b86a1567",
        "colab": {
          "base_uri": "https://localhost:8080/"
        }
      },
      "source": [
        "input_string = 'sagar'\n",
        "\n",
        "#### An expression that strips every vowel from a string provided\n",
        "print(\"\".join([x if x.lower() not in ['a', 'e' , 'i' ,'o','u'] else \" \" for x in input_string]))\n",
        "\n",
        "#### Output : s g r"
      ],
      "execution_count": 6,
      "outputs": [
        {
          "output_type": "stream",
          "text": [
            "s g r\n"
          ],
          "name": "stdout"
        }
      ]
    },
    {
      "cell_type": "markdown",
      "metadata": {
        "id": "exN_HCwrXoCA"
      },
      "source": [
        "#### 2.3 : Using list comprehension (and zip/lambda/etc if required) write an expression that acts like a ReLU function for a 1D array"
      ]
    },
    {
      "cell_type": "code",
      "metadata": {
        "id": "vcKm0gP1Xkjd",
        "outputId": "123cba24-fca3-4d4e-af5f-1a26b9624136",
        "colab": {
          "base_uri": "https://localhost:8080/"
        }
      },
      "source": [
        "Relu_input = [random.randint(-100 , 100) for x in range(10)]\n",
        "print(Relu_input)\n",
        "\n",
        "#### Clipping the negative inputs and fixing them to zero\n",
        "print([x if x>0 else 0 for x in Relu_input ])"
      ],
      "execution_count": 7,
      "outputs": [
        {
          "output_type": "stream",
          "text": [
            "[-54, -3, 81, 47, -81, 48, 88, 43, -50, 84]\n",
            "[0, 0, 81, 47, 0, 48, 88, 43, 0, 84]\n"
          ],
          "name": "stdout"
        }
      ]
    },
    {
      "cell_type": "markdown",
      "metadata": {
        "id": "2C0QhoBfXw8D"
      },
      "source": [
        "Question 2.4 : Using list comprehension (and zip/lambda/etc if required) write an expression that acts like a Sigmoid function for a 1D array"
      ]
    },
    {
      "cell_type": "code",
      "metadata": {
        "id": "RqK0Kk3QXvbt",
        "outputId": "89618553-e955-4b29-e9b7-5021b08e11c8",
        "colab": {
          "base_uri": "https://localhost:8080/"
        }
      },
      "source": [
        "from math import exp\n",
        "Sigmoid_input = [random.random() for x in range(10)]\n",
        "print(Sigmoid_input)\n",
        "\n",
        "#### Sigmoid implementation\n",
        "print([1 / (1 + exp(-x)) if x>0 else 0  for x in Sigmoid_input  ])"
      ],
      "execution_count": 8,
      "outputs": [
        {
          "output_type": "stream",
          "text": [
            "[0.34907870576764977, 0.16920592258818967, 0.32585146653629893, 0.4667597866860608, 0.8557002070649425, 0.6814020300411927, 0.04103084757861408, 0.20041341247452027, 0.06306305905849097, 0.879872272407723]\n",
            "[0.5863941496520224, 0.5422008422179371, 0.5807496337068355, 0.614616555194319, 0.7017615222546656, 0.6640515441126817, 0.5102562730393593, 0.5499363216417447, 0.5157605418709811, 0.7067957520991333]\n"
          ],
          "name": "stdout"
        }
      ]
    },
    {
      "cell_type": "markdown",
      "metadata": {
        "id": "mLD_2nvIYBzl"
      },
      "source": [
        "#### Question 2.5 : Using list comprehension (and zip/lambda/etc if required) write an expression that takes a small character string and shifts all characters by 5 (handle boundary conditions) tsai>>yxfn"
      ]
    },
    {
      "cell_type": "code",
      "metadata": {
        "id": "2RlIYjrsX4mE",
        "outputId": "c4c89e06-bb44-4f1a-84ff-4202a7456df4",
        "colab": {
          "base_uri": "https://localhost:8080/"
        }
      },
      "source": [
        "input_string = 'tsai'\n",
        "\n",
        "#### Expression that takes a small character string and shifts all characters by 5\n",
        "print(\"\".join([chr(ord(x) + 5 ) if ord(x) <= 117 else chr(96 + 5 - 122 - ord(x))  for x in input_string]))"
      ],
      "execution_count": 9,
      "outputs": [
        {
          "output_type": "stream",
          "text": [
            "yxfn\n"
          ],
          "name": "stdout"
        }
      ]
    },
    {
      "cell_type": "markdown",
      "metadata": {
        "id": "ksZIRYNkYKEc"
      },
      "source": [
        "## Task 3 : \n",
        "\n",
        "#### A list comprehension expression that takes a ~200 word paragraph (write your own paragraph to check), and checks whether it has any of the swear words mentioned in https://github.com/RobertJGabriel/Google-profanity-words/blob/master/list.txt"
      ]
    },
    {
      "cell_type": "code",
      "metadata": {
        "id": "ykMOWO3_YP87",
        "outputId": "0571b9b6-cec3-43d2-a41a-ff318aa18ba1",
        "colab": {
          "base_uri": "https://localhost:8080/"
        }
      },
      "source": [
        "!wget https://raw.githubusercontent.com/sagar9926/session7-sagar9926/master/Swear_Words.txt"
      ],
      "execution_count": 10,
      "outputs": [
        {
          "output_type": "stream",
          "text": [
            "--2020-11-03 09:32:11--  https://raw.githubusercontent.com/sagar9926/session7-sagar9926/master/Swear_Words.txt\n",
            "Resolving raw.githubusercontent.com (raw.githubusercontent.com)... 151.101.0.133, 151.101.64.133, 151.101.128.133, ...\n",
            "Connecting to raw.githubusercontent.com (raw.githubusercontent.com)|151.101.0.133|:443... connected.\n",
            "HTTP request sent, awaiting response... 200 OK\n",
            "Length: 4073 (4.0K) [text/plain]\n",
            "Saving to: ‘Swear_Words.txt.1’\n",
            "\n",
            "Swear_Words.txt.1   100%[===================>]   3.98K  --.-KB/s    in 0s      \n",
            "\n",
            "2020-11-03 09:32:12 (48.6 MB/s) - ‘Swear_Words.txt.1’ saved [4073/4073]\n",
            "\n"
          ],
          "name": "stdout"
        }
      ]
    },
    {
      "cell_type": "code",
      "metadata": {
        "id": "Eum7ekMbYf1S"
      },
      "source": [
        "Paragraph = \"\"\"What do you think is the most commonly used swearword on Twitter? Well of course it is.\n",
        "Very detailed work by researchers at Wright State University in Ohio has found that 34.7% of all the swearwords in \n",
        "their sample of 51m tweets were fuck or one of its long list of cognates.In comparison, the second and third most popular swearwords –\n",
        "shit and ass – accounted for 15.0% and 14.5% respectively, while other highlights included bitch (10.3%), hell (4.5%), whore (1.8%), \n",
        "dick (1.7%), piss (1.5%) and pussy (1.2%). Between them, the top seven make up 90.6% of all the swearing on Twitter, and \n",
        "Twitter is a sweary place. In daily life it is thought that between 0.5% and 0.7% of the words we use are swearwords,\n",
        "but the proportion on the site is roughly twice this, at 1.15%. According to this study, about one in every 13 tweets contains a\n",
        "swearword of some kind.Intriguingly, swearing also seems to be an early-week thing. Tweets become more and more likely to contain a swearword as the \n",
        "day progresses, perhaps reflecting the accumulation of things we have to swear about, and peak profanity is reached between midnight and 1.30am, suggesting that\n",
        " people who are awake at that time are, let's say, the least inhibited. Yet Friday, Saturday and Sunday are consistently the least sweary days of the week.\n",
        " Perhaps at the weekend the less inhibited people are so intent on getting really uninhibited that they don't tweet very much at all.As seen in past studies\n",
        "  of offline behaviour, women were more likely to swear when talking to women, while men (who swear more overall) were much more likely to swear when talking to other men. \n",
        "  Interestingly, men and women were also more likely than the other to use their own gender's insults. Women, for instance, were the main advocates of bitch and slut – \n",
        "  and were still more likely to use the terms in all-female conversations. It is difficult to be sure how playfully the words were being used,\n",
        " of course. Although the researchers do find that cursing is associated with negative emotions. No shit?\n",
        "\"\"\""
      ],
      "execution_count": 11,
      "outputs": []
    },
    {
      "cell_type": "code",
      "metadata": {
        "id": "ezwhB3uKYFsM",
        "outputId": "6360b6af-a391-47dd-fb61-53476fd2b4e4",
        "colab": {
          "base_uri": "https://localhost:8080/"
        }
      },
      "source": [
        "#### Reading the data from file containing Swear texts\n",
        "f = open(\"Swear_Words.txt\",'r')\n",
        "Swear_Words = f.read()\n",
        "f.close()\n",
        "\n",
        "Swear_Words = set(Swear_Words.split())\n",
        "\n",
        "\n",
        "Paragraph = set(Paragraph.split())\n",
        "\n",
        "#### A list comprehension expression that takes a ~200 word paragraph, and checks whether it has any of the swear words\n",
        "print(any([x for x in Swear_Words if x in Paragraph]))"
      ],
      "execution_count": 12,
      "outputs": [
        {
          "output_type": "stream",
          "text": [
            "True\n"
          ],
          "name": "stdout"
        }
      ]
    },
    {
      "cell_type": "markdown",
      "metadata": {
        "id": "GzHWSbyTaq6B"
      },
      "source": [
        "## Task 4.1 :\n",
        "#### Using reduce function add only even numbers in a list.\n",
        "\n"
      ]
    },
    {
      "cell_type": "code",
      "metadata": {
        "id": "ggy9WqN0YaKs",
        "outputId": "47d7c366-8757-4172-ed6f-2e1ee440389d",
        "colab": {
          "base_uri": "https://localhost:8080/"
        }
      },
      "source": [
        "#### Generating a list of random numbers\n",
        "list1 = [random.randint(0,100) for x in range(10)]\n",
        "print(list1)\n",
        "\n",
        "#### Adding only even numbers in a list.\n",
        "print(reduce(lambda a,b : a + b if b%2 == 0 else a ,list1))"
      ],
      "execution_count": 13,
      "outputs": [
        {
          "output_type": "stream",
          "text": [
            "[71, 81, 12, 20, 81, 92, 27, 89, 52, 55]\n",
            "247\n"
          ],
          "name": "stdout"
        }
      ]
    },
    {
      "cell_type": "markdown",
      "metadata": {
        "id": "rPyW8wkwa8g5"
      },
      "source": [
        "## Task 4.2 : \n",
        "\n",
        "#### Using reduce function find the biggest character in a string.\n"
      ]
    },
    {
      "cell_type": "code",
      "metadata": {
        "id": "UAbS0v41a7hw",
        "outputId": "0ff75b01-ddfb-498e-e6ff-5dff830ee3e6",
        "colab": {
          "base_uri": "https://localhost:8080/"
        }
      },
      "source": [
        "import string\n",
        "\n",
        "#### Creating randomly a string that contains printable characters\n",
        "sample_string = \"\".join([string.printable[random.randint(0,100)] for x in range(10)])\n",
        "print(sample_string)\n",
        "\n",
        "#### finding the biggest character in a string.\n",
        "print(reduce(lambda a,b : a if ord(a) > ord(b) else b ,sample_string))\n"
      ],
      "execution_count": 14,
      "outputs": [
        {
          "output_type": "stream",
          "text": [
            "7NACCN<\t$3\n",
            "N\n"
          ],
          "name": "stdout"
        }
      ]
    },
    {
      "cell_type": "markdown",
      "metadata": {
        "id": "6EFL4j5PbVxL"
      },
      "source": [
        "## Task 4.3 :\n",
        "\n",
        "#### Using reduce adds every 3rd number in a list"
      ]
    },
    {
      "cell_type": "code",
      "metadata": {
        "id": "fUuell-UbVDQ",
        "outputId": "4c6bb388-4082-4ac9-8336-efcd21ae052b",
        "colab": {
          "base_uri": "https://localhost:8080/"
        }
      },
      "source": [
        "#### Generate a list with 10 random numbers e.g [10,20,30,40,50,60]\n",
        "list1 = [random.randint(0,100) for x in range(10)]\n",
        "print(list1)\n",
        "\n",
        "#### allocate indexes starting from 1 to every element of the list e.g [(1,10),(2,20),(3,30),(4,40),(5,50),(6,60)]\n",
        "z = list(zip( list(range(1,len(list1) + 1)) , list1))\n",
        "\n",
        "#### add every 3rd number in a list : 30 + 60  = 90\n",
        "print(reduce(lambda a , b : a + b, [item[1] for item in list(filter(lambda  x : True if x[0]%3 == 0 else False ,z))]))\n"
      ],
      "execution_count": 15,
      "outputs": [
        {
          "output_type": "stream",
          "text": [
            "[29, 22, 34, 79, 77, 56, 87, 70, 38, 48]\n",
            "128\n"
          ],
          "name": "stdout"
        }
      ]
    },
    {
      "cell_type": "markdown",
      "metadata": {
        "id": "1Uv6wVvGb2yQ"
      },
      "source": [
        "## Task 5\n",
        "\n",
        "#### Using randint, random.choice and list comprehensions, write an expression that generates 15 random KADDAADDDD number plates, where KA is fixed, D stands for a digit, and A stands for Capital alphabets. 10<<DD<<99 & 1000<<DDDD<<9999"
      ]
    },
    {
      "cell_type": "code",
      "metadata": {
        "id": "4ubfUiAFbOnb",
        "outputId": "9b2beb8d-b5aa-4688-f1da-afd9c29b73e3",
        "colab": {
          "base_uri": "https://localhost:8080/"
        }
      },
      "source": [
        "#### Creating a list of all Capital letter alphabets\n",
        "Alphabets = [chr(x) for x in range(65,91)]\n",
        "\n",
        "#### Number plate dtaset creation expression\n",
        "[\"KA\" + str(random.randint(10,99)) + random.choice(Alphabets) + random.choice(Alphabets) + str(random.randint(1000,9999)) for _ in range(15)]\n"
      ],
      "execution_count": 16,
      "outputs": [
        {
          "output_type": "execute_result",
          "data": {
            "text/plain": [
              "['KA66KB8403',\n",
              " 'KA95CT9026',\n",
              " 'KA50II4911',\n",
              " 'KA23MG1481',\n",
              " 'KA35PD7702',\n",
              " 'KA97GO2123',\n",
              " 'KA89LM3453',\n",
              " 'KA11DU2992',\n",
              " 'KA11ZC5385',\n",
              " 'KA10KC2043',\n",
              " 'KA38XF1509',\n",
              " 'KA87UT4954',\n",
              " 'KA30ST3026',\n",
              " 'KA92TM6860',\n",
              " 'KA36GB4664']"
            ]
          },
          "metadata": {
            "tags": []
          },
          "execution_count": 16
        }
      ]
    },
    {
      "cell_type": "markdown",
      "metadata": {
        "id": "bYMFaQ6FcCQ_"
      },
      "source": [
        "## Task 6\n",
        "\n",
        "#### Write the above again from scratch where KA can be changed to DL, and 1000/9999 ranges can be provided."
      ]
    },
    {
      "cell_type": "code",
      "metadata": {
        "id": "jN2mURhLcAxQ"
      },
      "source": [
        "from functools import reduce , partial\n",
        "def number_plate_generation(KA,DDDD):\n",
        "    return([ KA + str(random.randint(10,99)) + random.choice(Alphabets) + random.choice(Alphabets) + str(DDDD) for _ in range(15)])\n"
      ],
      "execution_count": 17,
      "outputs": []
    },
    {
      "cell_type": "code",
      "metadata": {
        "id": "vtlfpCwIcLT-",
        "outputId": "ace16aad-fb9f-402f-e97c-f04a36416d4c",
        "colab": {
          "base_uri": "https://localhost:8080/"
        }
      },
      "source": [
        "number_plate_generation(\"DL\",1235)"
      ],
      "execution_count": 18,
      "outputs": [
        {
          "output_type": "execute_result",
          "data": {
            "text/plain": [
              "['DL16HA1235',\n",
              " 'DL32KB1235',\n",
              " 'DL37XW1235',\n",
              " 'DL48BZ1235',\n",
              " 'DL63YZ1235',\n",
              " 'DL57QB1235',\n",
              " 'DL41XE1235',\n",
              " 'DL15XJ1235',\n",
              " 'DL45MV1235',\n",
              " 'DL36CR1235',\n",
              " 'DL18TH1235',\n",
              " 'DL32AN1235',\n",
              " 'DL39GP1235',\n",
              " 'DL25RT1235',\n",
              " 'DL42NN1235']"
            ]
          },
          "metadata": {
            "tags": []
          },
          "execution_count": 18
        }
      ]
    },
    {
      "cell_type": "code",
      "metadata": {
        "id": "_rkBtgsGcnpa"
      },
      "source": [
        ""
      ],
      "execution_count": 18,
      "outputs": []
    }
  ]
}