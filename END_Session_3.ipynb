{
  "nbformat": 4,
  "nbformat_minor": 0,
  "metadata": {
    "colab": {
      "name": "END Session 3.ipynb",
      "provenance": [],
      "authorship_tag": "ABX9TyOBMFrbdnYxVoYLwfcw87kL",
      "include_colab_link": true
    },
    "kernelspec": {
      "name": "python3",
      "display_name": "Python 3"
    }
  },
  "cells": [
    {
      "cell_type": "markdown",
      "metadata": {
        "id": "view-in-github",
        "colab_type": "text"
      },
      "source": [
        "<a href=\"https://colab.research.google.com/github/sagar9926/END-Session3-/blob/main/END_Session_3.ipynb\" target=\"_parent\"><img src=\"https://colab.research.google.com/assets/colab-badge.svg\" alt=\"Open In Colab\"/></a>"
      ]
    },
    {
      "cell_type": "markdown",
      "metadata": {
        "id": "mtEwEHtR7fXv"
      },
      "source": [
        "## Task 1 :\n",
        "\n",
        "Write a function using only list filter lambda that can tell whether a number is a Fibonacci number or not. You can use a pre-calculated list/dict to store fab numbers till 10000 "
      ]
    },
    {
      "cell_type": "code",
      "metadata": {
        "id": "169ogCtT68Qw"
      },
      "source": [
        "from functools import reduce \n",
        "#### Using lambda and reduce first create a function that to create Fibonacci series given number of series elements as inputs\n",
        "fib  = lambda n : reduce(lambda x , _ :  x + [x[-1] + x[-2]] ,range(n-2), [0 , 1])\n",
        "\n",
        "#### Create a list containing first 10000 elements of a fibonacci series \n",
        "FIB_10000 = fib(10000)\n",
        "\n",
        "#### Testing whether a number is fibonacci series or not\n",
        "Fib_Tester = lambda x : bool(list(filter(None ,  list([x in FIB_10000]))))"
      ],
      "execution_count": 2,
      "outputs": []
    },
    {
      "cell_type": "code",
      "metadata": {
        "id": "7TUKhRG87ysA",
        "outputId": "0d46af94-a65e-4ff6-bdf0-ef84f67062c0",
        "colab": {
          "base_uri": "https://localhost:8080/"
        }
      },
      "source": [
        "Fib_Tester(1)"
      ],
      "execution_count": 3,
      "outputs": [
        {
          "output_type": "execute_result",
          "data": {
            "text/plain": [
              "True"
            ]
          },
          "metadata": {
            "tags": []
          },
          "execution_count": 3
        }
      ]
    },
    {
      "cell_type": "code",
      "metadata": {
        "id": "Zd3lBc8W7-rd",
        "outputId": "512892aa-e791-46d6-8ee8-52e9c64093a6",
        "colab": {
          "base_uri": "https://localhost:8080/"
        }
      },
      "source": [
        "Fib_Tester(100)"
      ],
      "execution_count": 4,
      "outputs": [
        {
          "output_type": "execute_result",
          "data": {
            "text/plain": [
              "False"
            ]
          },
          "metadata": {
            "tags": []
          },
          "execution_count": 4
        }
      ]
    },
    {
      "cell_type": "markdown",
      "metadata": {
        "id": "yG7CHEmnWYdT"
      },
      "source": [
        "## Task 2 :\n",
        "Using list comprehension (and zip/lambda/etc if required) write five different expressions that:"
      ]
    },
    {
      "cell_type": "markdown",
      "metadata": {
        "id": "gPnSpcOzXYS-"
      },
      "source": [
        "#### 2.1 : add 2 iterables a and b such that a is even and b is odd"
      ]
    },
    {
      "cell_type": "code",
      "metadata": {
        "id": "nfdpDveLWkVC"
      },
      "source": [
        "#### Creating two lists of size 10 with random numbers\n",
        "import random\n",
        "\n",
        "iter1 = [random.randint(0 , 100) for x in range(10)]\n",
        "iter2 = [random.randint(0 , 100) for x in range(10)]\n",
        "\n",
        "#### adding 2 iterables a and b such that a is even and b is odd\n",
        "Result_2_1 = [a + b for a , b in zip(iter1,iter2) if (a%2 == 0) and (b%2 != 0)]"
      ],
      "execution_count": 22,
      "outputs": []
    },
    {
      "cell_type": "code",
      "metadata": {
        "id": "WxEyF4pXWqxS",
        "outputId": "e6db982a-3176-410a-aace-22554c8f458d",
        "colab": {
          "base_uri": "https://localhost:8080/"
        }
      },
      "source": [
        "print(\"iter1 : \",iter1)\n",
        "print(\"iter1 : \",iter2)\n",
        "print(\"Result : \",Result_2_1)"
      ],
      "execution_count": 23,
      "outputs": [
        {
          "output_type": "stream",
          "text": [
            "iter1 :  [5, 15, 37, 53, 82, 12, 15, 0, 6, 1]\n",
            "iter1 :  [57, 25, 68, 62, 42, 43, 29, 7, 81, 23]\n",
            "Result :  [55, 7, 87]\n"
          ],
          "name": "stdout"
        }
      ]
    },
    {
      "cell_type": "markdown",
      "metadata": {
        "id": "FnnoI_3FXT_d"
      },
      "source": [
        "#### 2.2 : strips every vowel from a string provided (tsai>>t s)"
      ]
    },
    {
      "cell_type": "code",
      "metadata": {
        "id": "IUd-DvmE9-OA",
        "outputId": "58c24fa9-9d8c-4bb0-8f59-ce9531e52df4",
        "colab": {
          "base_uri": "https://localhost:8080/"
        }
      },
      "source": [
        "input_string = 'sagar'\n",
        "\n",
        "#### An expression that strips every vowel from a string provided\n",
        "print(\"\".join([x if x.lower() not in ['a', 'e' , 'i' ,'o','u'] else \" \" for x in input_string]))\n",
        "\n",
        "#### Output : s g r"
      ],
      "execution_count": 25,
      "outputs": [
        {
          "output_type": "stream",
          "text": [
            "s g r\n"
          ],
          "name": "stdout"
        }
      ]
    },
    {
      "cell_type": "markdown",
      "metadata": {
        "id": "exN_HCwrXoCA"
      },
      "source": [
        "#### 2.3 : Using list comprehension (and zip/lambda/etc if required) write an expression that acts like a ReLU function for a 1D array"
      ]
    },
    {
      "cell_type": "code",
      "metadata": {
        "id": "vcKm0gP1Xkjd",
        "outputId": "66a5a6d2-0c43-4739-b252-7960cd1610d0",
        "colab": {
          "base_uri": "https://localhost:8080/"
        }
      },
      "source": [
        "Relu_input = [random.randint(-100 , 100) for x in range(10)]\n",
        "print(Relu_input)\n",
        "\n",
        "#### Clipping the negative inputs and fixing them to zero\n",
        "print([x if x>0 else 0 for x in Relu_input ])"
      ],
      "execution_count": 26,
      "outputs": [
        {
          "output_type": "stream",
          "text": [
            "[-68, -98, -93, 28, 11, -64, 30, 58, 100, -86]\n",
            "[0, 0, 0, 28, 11, 0, 30, 58, 100, 0]\n"
          ],
          "name": "stdout"
        }
      ]
    },
    {
      "cell_type": "markdown",
      "metadata": {
        "id": "2C0QhoBfXw8D"
      },
      "source": [
        "Question 2.4 : Using list comprehension (and zip/lambda/etc if required) write an expression that acts like a Sigmoid function for a 1D array"
      ]
    },
    {
      "cell_type": "code",
      "metadata": {
        "id": "RqK0Kk3QXvbt",
        "outputId": "8ff422cd-d051-4abb-a82a-9381c86cd9a5",
        "colab": {
          "base_uri": "https://localhost:8080/"
        }
      },
      "source": [
        "from math import exp\n",
        "Sigmoid_input = [random.random() for x in range(10)]\n",
        "print(Sigmoid_input)\n",
        "\n",
        "#### Sigmoid implementation\n",
        "print([1 / (1 + exp(-x)) if x>0 else 0  for x in Sigmoid_input  ])"
      ],
      "execution_count": 28,
      "outputs": [
        {
          "output_type": "stream",
          "text": [
            "[0.824525542265033, 0.9790854920130698, 0.9986899249558218, 0.06601690795508053, 0.16009939711320886, 0.3728244991450125, 0.8654262592793942, 0.3530456529131809, 0.4344345941795814, 0.9089908678190758]\n",
            "[0.6951961417932112, 0.7269267202844624, 0.7308009242867082, 0.5164982354956182, 0.5399395753766058, 0.5921413002897157, 0.7037931072953104, 0.5873559464575752, 0.6069321098942871, 0.7127936187167868]\n"
          ],
          "name": "stdout"
        }
      ]
    },
    {
      "cell_type": "markdown",
      "metadata": {
        "id": "mLD_2nvIYBzl"
      },
      "source": [
        "#### Question 2.5 : Using list comprehension (and zip/lambda/etc if required) write an expression that takes a small character string and shifts all characters by 5 (handle boundary conditions) tsai>>yxfn"
      ]
    },
    {
      "cell_type": "code",
      "metadata": {
        "id": "2RlIYjrsX4mE",
        "outputId": "b138136a-5f2c-403b-de58-41dec610674e",
        "colab": {
          "base_uri": "https://localhost:8080/"
        }
      },
      "source": [
        "input_string = 'tsai'\n",
        "\n",
        "#### Expression that takes a small character string and shifts all characters by 5\n",
        "print(\"\".join([chr(ord(x) + 5 ) if ord(x) <= 117 else chr(96 + 5 - 122 - ord(x))  for x in input_string]))"
      ],
      "execution_count": 29,
      "outputs": [
        {
          "output_type": "stream",
          "text": [
            "yxfn\n"
          ],
          "name": "stdout"
        }
      ]
    },
    {
      "cell_type": "markdown",
      "metadata": {
        "id": "ksZIRYNkYKEc"
      },
      "source": [
        "#### A list comprehension expression that takes a ~200 word paragraph (write your own paragraph to check), and checks whether it has any of the swear words mentioned in https://github.com/RobertJGabriel/Google-profanity-words/blob/master/list.txt"
      ]
    },
    {
      "cell_type": "code",
      "metadata": {
        "id": "ykMOWO3_YP87",
        "outputId": "4db33324-71e7-48ea-c05c-9a1aef05a9fd",
        "colab": {
          "base_uri": "https://localhost:8080/"
        }
      },
      "source": [
        "!wget https://raw.githubusercontent.com/sagar9926/session7-sagar9926/master/Swear_Words.txt"
      ],
      "execution_count": 30,
      "outputs": [
        {
          "output_type": "stream",
          "text": [
            "--2020-11-03 09:13:02--  https://raw.githubusercontent.com/sagar9926/session7-sagar9926/master/Swear_Words.txt\n",
            "Resolving raw.githubusercontent.com (raw.githubusercontent.com)... 151.101.0.133, 151.101.64.133, 151.101.128.133, ...\n",
            "Connecting to raw.githubusercontent.com (raw.githubusercontent.com)|151.101.0.133|:443... connected.\n",
            "HTTP request sent, awaiting response... 200 OK\n",
            "Length: 4073 (4.0K) [text/plain]\n",
            "Saving to: ‘Swear_Words.txt’\n",
            "\n",
            "Swear_Words.txt     100%[===================>]   3.98K  --.-KB/s    in 0s      \n",
            "\n",
            "2020-11-03 09:13:03 (70.8 MB/s) - ‘Swear_Words.txt’ saved [4073/4073]\n",
            "\n"
          ],
          "name": "stdout"
        }
      ]
    },
    {
      "cell_type": "code",
      "metadata": {
        "id": "Eum7ekMbYf1S"
      },
      "source": [
        "Paragraph = \"\"\"What do you think is the most commonly used swearword on Twitter? Well of course it is.\n",
        "Very detailed work by researchers at Wright State University in Ohio has found that 34.7% of all the swearwords in \n",
        "their sample of 51m tweets were fuck or one of its long list of cognates.In comparison, the second and third most popular swearwords –\n",
        "shit and ass – accounted for 15.0% and 14.5% respectively, while other highlights included bitch (10.3%), hell (4.5%), whore (1.8%), \n",
        "dick (1.7%), piss (1.5%) and pussy (1.2%). Between them, the top seven make up 90.6% of all the swearing on Twitter, and \n",
        "Twitter is a sweary place. In daily life it is thought that between 0.5% and 0.7% of the words we use are swearwords,\n",
        "but the proportion on the site is roughly twice this, at 1.15%. According to this study, about one in every 13 tweets contains a\n",
        "swearword of some kind.Intriguingly, swearing also seems to be an early-week thing. Tweets become more and more likely to contain a swearword as the \n",
        "day progresses, perhaps reflecting the accumulation of things we have to swear about, and peak profanity is reached between midnight and 1.30am, suggesting that\n",
        " people who are awake at that time are, let's say, the least inhibited. Yet Friday, Saturday and Sunday are consistently the least sweary days of the week.\n",
        " Perhaps at the weekend the less inhibited people are so intent on getting really uninhibited that they don't tweet very much at all.As seen in past studies\n",
        "  of offline behaviour, women were more likely to swear when talking to women, while men (who swear more overall) were much more likely to swear when talking to other men. \n",
        "  Interestingly, men and women were also more likely than the other to use their own gender's insults. Women, for instance, were the main advocates of bitch and slut – \n",
        "  and were still more likely to use the terms in all-female conversations. It is difficult to be sure how playfully the words were being used,\n",
        " of course. Although the researchers do find that cursing is associated with negative emotions. No shit?\n",
        "\"\"\""
      ],
      "execution_count": null,
      "outputs": []
    },
    {
      "cell_type": "code",
      "metadata": {
        "id": "ezwhB3uKYFsM",
        "outputId": "a5567480-ebb5-470d-b8fb-c4ba4fc89f36",
        "colab": {
          "base_uri": "https://localhost:8080/",
          "height": 228
        }
      },
      "source": [
        "#### Reading the data from file containing Swear texts\n",
        "f = open(\"Swear_Words.txt\",'r')\n",
        "Swear_Words = f.read()\n",
        "f.close()\n",
        "\n",
        "Swear_Words = set(Swear_Words.split())\n",
        "\n",
        "\n",
        "Paragraph = set(Paragraph.split())\n",
        "\n",
        "#### A list comprehension expression that takes a ~200 word paragraph, and checks whether it has any of the swear words\n",
        "print(any([x for x in Swear_Words if x in Paragraph]))"
      ],
      "execution_count": 31,
      "outputs": [
        {
          "output_type": "error",
          "ename": "FileNotFoundError",
          "evalue": "ignored",
          "traceback": [
            "\u001b[0;31m---------------------------------------------------------------------------\u001b[0m",
            "\u001b[0;31mFileNotFoundError\u001b[0m                         Traceback (most recent call last)",
            "\u001b[0;32m<ipython-input-31-c609bdf2d381>\u001b[0m in \u001b[0;36m<module>\u001b[0;34m()\u001b[0m\n\u001b[1;32m      8\u001b[0m \u001b[0;34m\u001b[0m\u001b[0m\n\u001b[1;32m      9\u001b[0m \u001b[0;31m#### Reading the data from file containing Paragraph texts\u001b[0m\u001b[0;34m\u001b[0m\u001b[0;34m\u001b[0m\u001b[0;34m\u001b[0m\u001b[0m\n\u001b[0;32m---> 10\u001b[0;31m \u001b[0mf\u001b[0m \u001b[0;34m=\u001b[0m \u001b[0mopen\u001b[0m\u001b[0;34m(\u001b[0m\u001b[0;34m\"Paragraph.txt\"\u001b[0m\u001b[0;34m,\u001b[0m\u001b[0;34m'r'\u001b[0m\u001b[0;34m)\u001b[0m\u001b[0;34m\u001b[0m\u001b[0;34m\u001b[0m\u001b[0m\n\u001b[0m\u001b[1;32m     11\u001b[0m \u001b[0mParagraph\u001b[0m \u001b[0;34m=\u001b[0m \u001b[0mf\u001b[0m\u001b[0;34m.\u001b[0m\u001b[0mread\u001b[0m\u001b[0;34m(\u001b[0m\u001b[0;34m)\u001b[0m\u001b[0;34m\u001b[0m\u001b[0;34m\u001b[0m\u001b[0m\n\u001b[1;32m     12\u001b[0m \u001b[0mf\u001b[0m\u001b[0;34m.\u001b[0m\u001b[0mclose\u001b[0m\u001b[0;34m(\u001b[0m\u001b[0;34m)\u001b[0m\u001b[0;34m\u001b[0m\u001b[0;34m\u001b[0m\u001b[0m\n",
            "\u001b[0;31mFileNotFoundError\u001b[0m: [Errno 2] No such file or directory: 'Paragraph.txt'"
          ]
        }
      ]
    },
    {
      "cell_type": "code",
      "metadata": {
        "id": "ggy9WqN0YaKs"
      },
      "source": [
        ""
      ],
      "execution_count": null,
      "outputs": []
    }
  ]
}