{
  "nbformat": 4,
  "nbformat_minor": 0,
  "metadata": {
    "colab": {
      "name": "END Session 3.ipynb",
      "provenance": [],
      "authorship_tag": "ABX9TyOepI1XbfuUVZMttiZIVV6G",
      "include_colab_link": true
    },
    "kernelspec": {
      "name": "python3",
      "display_name": "Python 3"
    }
  },
  "cells": [
    {
      "cell_type": "markdown",
      "metadata": {
        "id": "view-in-github",
        "colab_type": "text"
      },
      "source": [
        "<a href=\"https://colab.research.google.com/github/sagar9926/END-Session3-/blob/main/END_Session_3.ipynb\" target=\"_parent\"><img src=\"https://colab.research.google.com/assets/colab-badge.svg\" alt=\"Open In Colab\"/></a>"
      ]
    },
    {
      "cell_type": "markdown",
      "metadata": {
        "id": "mtEwEHtR7fXv"
      },
      "source": [
        "## Task 1 :\n",
        "\n",
        "Write a function using only list filter lambda that can tell whether a number is a Fibonacci number or not. You can use a pre-calculated list/dict to store fab numbers till 10000 "
      ]
    },
    {
      "cell_type": "code",
      "metadata": {
        "id": "169ogCtT68Qw"
      },
      "source": [
        "from functools import reduce \n",
        "#### Using lambda and reduce first create a function that to create Fibonacci series given number of series elements as inputs\n",
        "fib  = lambda n : reduce(lambda x , _ :  x + [x[-1] + x[-2]] ,range(n-2), [0 , 1])\n",
        "\n",
        "#### Create a list containing first 10000 elements of a fibonacci series \n",
        "FIB_10000 = fib(10000)\n",
        "\n",
        "#### Testing whether a number is fibonacci series or not\n",
        "Fib_Tester = lambda x : bool(list(filter(None ,  list([x in FIB_10000]))))"
      ],
      "execution_count": 2,
      "outputs": []
    },
    {
      "cell_type": "code",
      "metadata": {
        "id": "7TUKhRG87ysA",
        "outputId": "0d46af94-a65e-4ff6-bdf0-ef84f67062c0",
        "colab": {
          "base_uri": "https://localhost:8080/"
        }
      },
      "source": [
        "Fib_Tester(1)"
      ],
      "execution_count": 3,
      "outputs": [
        {
          "output_type": "execute_result",
          "data": {
            "text/plain": [
              "True"
            ]
          },
          "metadata": {
            "tags": []
          },
          "execution_count": 3
        }
      ]
    },
    {
      "cell_type": "code",
      "metadata": {
        "id": "Zd3lBc8W7-rd",
        "outputId": "512892aa-e791-46d6-8ee8-52e9c64093a6",
        "colab": {
          "base_uri": "https://localhost:8080/"
        }
      },
      "source": [
        "Fib_Tester(100)"
      ],
      "execution_count": 4,
      "outputs": [
        {
          "output_type": "execute_result",
          "data": {
            "text/plain": [
              "False"
            ]
          },
          "metadata": {
            "tags": []
          },
          "execution_count": 4
        }
      ]
    }
  ]
}